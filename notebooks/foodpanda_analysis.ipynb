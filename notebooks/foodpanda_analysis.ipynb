{
 "cells": [
  {
   "cell_type": "markdown",
   "id": "dcd26fae",
   "metadata": {},
   "source": [
    "# 📊 Foodpanda Dashboard Analysis\n",
    "\n",
    "This notebook presents an exploratory data analysis and dashboard visualization based on the **Foodpanda Order and Delivery Trends** dataset. The goal is to uncover insights about customer behavior, order patterns, payment methods, and restaurant performance using Python tools."
   ]
  },
  {
   "cell_type": "code",
   "execution_count": null,
   "id": "651eab34",
   "metadata": {},
   "outputs": [],
   "source": [
    "import pandas as pd\n",
    "\n",
    "# Load the dataset\n",
    "df = pd.read_csv(\"data/Foodpanda Analysis Dataset.csv\")\n",
    "\n",
    "# Display the first few rows\n",
    "df.head()"
   ]
  },
  {
   "cell_type": "code",
   "execution_count": null,
   "id": "89a18368",
   "metadata": {},
   "outputs": [],
   "source": [
    "# Check for missing values\n",
    "df.isnull().sum()\n",
    "\n",
    "# Drop rows with missing values (if any)\n",
    "df.dropna(inplace=True)\n",
    "\n",
    "# Convert date columns to datetime format\n",
    "df['order_date'] = pd.to_datetime(df['order_date'], errors='coerce')\n",
    "df['rating_date'] = pd.to_datetime(df['rating_date'], errors='coerce')"
   ]
  },
  {
   "cell_type": "code",
   "execution_count": null,
   "id": "b5de3ebd",
   "metadata": {},
   "outputs": [],
   "source": [
    "import plotly.express as px\n",
    "\n",
    "# Orders by city\n",
    "orders_by_city = df['city'].value_counts().reset_index()\n",
    "orders_by_city.columns = ['City', 'Order Count']\n",
    "\n",
    "fig1 = px.bar(orders_by_city, x='City', y='Order Count', title='Orders by City', labels={'Order Count': 'Number of Orders'})\n",
    "fig1.show()"
   ]
  },
  {
   "cell_type": "code",
   "execution_count": null,
   "id": "e2c90904",
   "metadata": {},
   "outputs": [],
   "source": [
    "# Top ordered dishes\n",
    "top_dishes = df['dish_name'].value_counts().nlargest(10).reset_index()\n",
    "top_dishes.columns = ['Dish Name', 'Order Count']\n",
    "\n",
    "fig2 = px.bar(top_dishes, x='Dish Name', y='Order Count', title='Top Ordered Dishes', labels={'Order Count': 'Number of Orders'})\n",
    "fig2.show()"
   ]
  },
  {
   "cell_type": "code",
   "execution_count": null,
   "id": "cb99fb0b",
   "metadata": {},
   "outputs": [],
   "source": [
    "# Payment methods distribution\n",
    "payment_methods = df['payment_method'].value_counts().reset_index()\n",
    "payment_methods.columns = ['Payment Method', 'Count']\n",
    "\n",
    "fig3 = px.pie(payment_methods, names='Payment Method', values='Count', title='Payment Methods Distribution')\n",
    "fig3.show()"
   ]
  },
  {
   "cell_type": "code",
   "execution_count": null,
   "id": "c09b5ac6",
   "metadata": {},
   "outputs": [],
   "source": [
    "# Delivery status breakdown\n",
    "delivery_status = df['delivery_status'].value_counts().reset_index()\n",
    "delivery_status.columns = ['Delivery Status', 'Count']\n",
    "\n",
    "fig4 = px.pie(delivery_status, names='Delivery Status', values='Count', title='Delivery Status Breakdown')\n",
    "fig4.show()"
   ]
  },
  {
   "cell_type": "code",
   "execution_count": null,
   "id": "991922ca",
   "metadata": {},
   "outputs": [],
   "source": [
    "# Average ratings by restaurant\n",
    "avg_ratings = df.groupby('restaurant_name')['rating'].mean().reset_index()\n",
    "avg_ratings.columns = ['Restaurant', 'Average Rating']\n",
    "avg_ratings = avg_ratings.sort_values(by='Average Rating', ascending=False).head(10)\n",
    "\n",
    "fig5 = px.bar(avg_ratings, x='Restaurant', y='Average Rating', title='Average Ratings by Restaurant')\n",
    "fig5.show()"
   ]
  },
  {
   "cell_type": "markdown",
   "id": "3ab52ebc",
   "metadata": {},
   "source": [
    "## 🔍 Key Insights\n",
    "\n",
    "- Cities with the highest number of orders indicate regional demand.\n",
    "- Certain dishes are consistently popular across customers.\n",
    "- Cash and wallet are the most preferred payment methods.\n",
    "- Delivery status shows operational performance and customer satisfaction.\n",
    "- Restaurants with higher average ratings may reflect better service or food quality."
   ]
  }
 ],
 "metadata": {},
 "nbformat": 4,
 "nbformat_minor": 5
}
